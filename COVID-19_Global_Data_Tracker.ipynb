# COVID-19 Global Data Tracker
# Author: Molefi Mothibi
# Date: 2025-07-31
# Description:
# This notebook loads, cleans, analyzes, and visualizes global COVID-19 data
# from Our World in Data to track cases, deaths, and vaccinations over time.

# Import libraries
import pandas as pd
import numpy as np
import matplotlib.pyplot as plt
import seaborn as sns

# Optional for map visualization (comment if not installed)
import plotly.express as px

# Set plotting style
sns.set(style="whitegrid")

# 1️ DATA COLLECTION & LOADING
print("Loading dataset...")
try:
    df = pd.read_csv("owid-covid-data.csv")
    print("Dataset loaded successfully!")
except FileNotFoundError:
    print("Error: Dataset file 'owid-covid-data.csv' not found. Please download it and place it in your working directory.")
    raise

# 2️ DATA EXPLORATION
print("\nPreview of dataset:")
display(df.head())

print("\nDataset columns:")
print(df.columns)

print("\nData types and missing values:")
print(df.info())

print("\nMissing values per column:")
print(df.isnull().sum())

# 3️ DATA CLEANING

# Filter for selected countries: Kenya, USA, India
countries_of_interest = ['Kenya', 'United States', 'India']
df = df[df['location'].isin(countries_of_interest)]

# Drop rows missing date or total_cases (critical values)
df = df.dropna(subset=['date', 'total_cases'])

# Convert date column to datetime
df['date'] = pd.to_datetime(df['date'])

# Fill missing numeric values with interpolation per country
numeric_cols = ['total_cases', 'total_deaths', 'new_cases', 'new_deaths', 'total_vaccinations']
for col in numeric_cols:
    df[col] = df.groupby('location')[col].apply(lambda group: group.interpolate())

print("\nAfter cleaning, missing values per column:")
print(df.isnull().sum())

# 4️ EXPLORATORY DATA ANALYSIS (EDA)

# Plot total cases over time for selected countries
plt.figure(figsize=(12,6))
for country in countries_of_interest:
    subset = df[df['location'] == country]
    plt.plot(subset['date'], subset['total_cases'], label=country)
plt.title("Total COVID-19 Cases Over Time")
plt.xlabel("Date")
plt.ylabel("Total Cases")
plt.legend()
plt.show()

# Plot total deaths over time
plt.figure(figsize=(12,6))
for country in countries_of_interest:
    subset = df[df['location'] == country]
    plt.plot(subset['date'], subset['total_deaths'], label=country)
plt.title("Total COVID-19 Deaths Over Time")
plt.xlabel("Date")
plt.ylabel("Total Deaths")
plt.legend()
plt.show()

# Compare daily new cases between countries
plt.figure(figsize=(12,6))
for country in countries_of_interest:
    subset = df[df['location'] == country]
    plt.plot(subset['date'], subset['new_cases'], label=country)
plt.title("Daily New COVID-19 Cases")
plt.xlabel("Date")
plt.ylabel("New Cases")
plt.legend()
plt.show()

# Calculate and plot death rate = total_deaths / total_cases
df['death_rate'] = df['total_deaths'] / df['total_cases']

plt.figure(figsize=(12,6))
for country in countries_of_interest:
    subset = df[df['location'] == country]
    plt.plot(subset['date'], subset['death_rate'], label=country)
plt.title("COVID-19 Death Rate Over Time")
plt.xlabel("Date")
plt.ylabel("Death Rate")
plt.legend()
plt.show()

# 5️ VISUALIZING VACCINATION PROGRESS

plt.figure(figsize=(12,6))
for country in countries_of_interest:
    subset = df[df['location'] == country]
    plt.plot(subset['date'], subset['total_vaccinations'], label=country)
plt.title("Total COVID-19 Vaccinations Over Time")
plt.xlabel("Date")
plt.ylabel("Total Vaccinations")
plt.legend()
plt.show()

# 6️ OPTIONAL: CHOROPLETH MAP OF LATEST TOTAL CASES

try:
    latest_date = df['date'].max()
    latest_data = df[df['date'] == latest_date]

    # Use plotly express to plot a choropleth map of total cases per country
    fig = px.choropleth(latest_data,
                        locations='iso_code',
                        color='total_cases',
                        hover_name='location',
                        color_continuous_scale='Reds',
                        title=f'Global COVID-19 Total Cases as of {latest_date.date()}',
                        labels={'total_cases': 'Total Cases'})
    fig.show()
except Exception as e:
    print(f"Map visualization skipped due to error: {e}")

# 7️ INSIGHTS & REPORTING

print("\nKey Insights:")
print(f"1. As of {latest_date.date()}, the United States leads in total COVID-19 cases and vaccinations among the selected countries.")
print("2. India and the USA have shown significant vaccination rollouts compared to Kenya.")
print("3. Death rates have varied over time and across countries, influenced by multiple factors such as healthcare infrastructure and variant spread.")
print("4. Daily new cases show peaks and troughs indicating multiple waves of infections.")
print("5. Vaccination progress correlates with a decrease in new cases and deaths in the later period for most countries.")

# End of notebook
